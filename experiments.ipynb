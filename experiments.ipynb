{
  "cells": [
    {
      "cell_type": "markdown",
      "metadata": {
        "id": "9QIhxJWV3q_I"
      },
      "source": [
        "# Experiments on Differentiable Bayesian Structure Learning\n",
        "\n"
      ]
    },
    {
      "cell_type": "code",
      "execution_count": 1,
      "metadata": {
        "colab": {
          "base_uri": "https://localhost:8080/"
        },
        "id": "Ya27a5Ri9S1b",
        "outputId": "6c7713a2-6dcb-432d-fdbb-e3fad69decac"
      },
      "outputs": [
        {
          "name": "stdout",
          "output_type": "stream",
          "text": [
            "\u001b[2K   \u001b[90m━━━━━━━━━━━━━━━━━━━━━━━━━━━━━━━━━━━━━━━━\u001b[0m \u001b[32m3.1/3.1 MB\u001b[0m \u001b[31m28.5 MB/s\u001b[0m eta \u001b[36m0:00:00\u001b[0m\n",
            "\u001b[2K   \u001b[90m━━━━━━━━━━━━━━━━━━━━━━━━━━━━━━━━━━━━━━━━\u001b[0m \u001b[32m11.7/11.7 MB\u001b[0m \u001b[31m39.0 MB/s\u001b[0m eta \u001b[36m0:00:00\u001b[0m\n",
            "\u001b[2K   \u001b[90m━━━━━━━━━━━━━━━━━━━━━━━━━━━━━━━━━━━━━━━━\u001b[0m \u001b[32m117.2/117.2 kB\u001b[0m \u001b[31m6.7 MB/s\u001b[0m eta \u001b[36m0:00:00\u001b[0m\n",
            "\u001b[2K   \u001b[90m━━━━━━━━━━━━━━━━━━━━━━━━━━━━━━━━━━━━━━━━\u001b[0m \u001b[32m69.1/69.1 kB\u001b[0m \u001b[31m1.8 MB/s\u001b[0m eta \u001b[36m0:00:00\u001b[0m\n",
            "\u001b[2K   \u001b[90m━━━━━━━━━━━━━━━━━━━━━━━━━━━━━━━━━━━━━━━━\u001b[0m \u001b[32m385.8/385.8 kB\u001b[0m \u001b[31m15.4 MB/s\u001b[0m eta \u001b[36m0:00:00\u001b[0m\n",
            "\u001b[2K   \u001b[90m━━━━━━━━━━━━━━━━━━━━━━━━━━━━━━━━━━━━━━━━\u001b[0m \u001b[32m133.5/133.5 kB\u001b[0m \u001b[31m9.5 MB/s\u001b[0m eta \u001b[36m0:00:00\u001b[0m\n",
            "\u001b[2K   \u001b[90m━━━━━━━━━━━━━━━━━━━━━━━━━━━━━━━━━━━━━━━━\u001b[0m \u001b[32m59.7/59.7 kB\u001b[0m \u001b[31m4.0 MB/s\u001b[0m eta \u001b[36m0:00:00\u001b[0m\n",
            "\u001b[2K   \u001b[90m━━━━━━━━━━━━━━━━━━━━━━━━━━━━━━━━━━━━━━━━\u001b[0m \u001b[32m1.6/1.6 MB\u001b[0m \u001b[31m60.6 MB/s\u001b[0m eta \u001b[36m0:00:00\u001b[0m\n",
            "\u001b[2K   \u001b[90m━━━━━━━━━━━━━━━━━━━━━━━━━━━━━━━━━━━━━━━━\u001b[0m \u001b[32m66.4/66.4 kB\u001b[0m \u001b[31m3.6 MB/s\u001b[0m eta \u001b[36m0:00:00\u001b[0m\n",
            "\u001b[?25h\u001b[31mERROR: pip's dependency resolver does not currently take into account all the packages that are installed. This behaviour is the source of the following dependency conflicts.\n",
            "google-colab 1.0.0 requires ipykernel==5.5.6, but you have ipykernel 6.29.5 which is incompatible.\u001b[0m\u001b[31m\n",
            "\u001b[0m"
          ]
        }
      ],
      "source": [
        "# for google colab\n",
        "%pip install --quiet dibs-lib"
      ]
    },
    {
      "cell_type": "code",
      "execution_count": 2,
      "metadata": {
        "colab": {
          "base_uri": "https://localhost:8080/"
        },
        "id": "yq3per4G9R_-",
        "outputId": "3feccd4b-66a6-4165-c786-19f74bbbada5"
      },
      "outputs": [
        {
          "name": "stdout",
          "output_type": "stream",
          "text": [
            "JAX backend: gpu\n"
          ]
        }
      ],
      "source": [
        "import jax\n",
        "print(f\"JAX backend: {jax.default_backend()}\")"
      ]
    },
    {
      "cell_type": "code",
      "execution_count": 3,
      "metadata": {
        "id": "QATOXgB5iIis"
      },
      "outputs": [],
      "source": [
        "import pandas as pd\n",
        "import seaborn as sns\n",
        "import matplotlib.pyplot as plt\n",
        "from dibs.inference import JointDiBS, MarginalDiBS\n",
        "from dibs.target import make_linear_gaussian_equivalent_model\n",
        "from dibs.utils import visualize_ground_truth, visualize\n",
        "import jax.random as random\n",
        "from dibs.models.graph import ErdosReniDAGDistribution, ScaleFreeDAGDistribution\n",
        "from dibs.models import LinearGaussian, BGe, DenseNonlinearGaussian\n",
        "from dibs.target import make_synthetic_bayes_net"
      ]
    },
    {
      "cell_type": "markdown",
      "metadata": {
        "id": "gkMlrowqfsi6"
      },
      "source": [
        "## E1: Influence of choice of edge probability in ER-prior on DIBS performance"
      ]
    },
    {
      "cell_type": "code",
      "execution_count": 4,
      "metadata": {
        "id": "R9RBGO32Zc42"
      },
      "outputs": [],
      "source": [
        "MAIN_KEY = random.PRNGKey(0)\n",
        "N_VARS = 20\n",
        "N_PARTICLES = N_VARS\n",
        "SVGD_STEPS = 3000\n",
        "OUTPUT_DIR = \"output\"\n",
        "N_NETWORKS = 10\n",
        "N_OBSERVATIONS = 100"
      ]
    },
    {
      "cell_type": "code",
      "execution_count": 5,
      "metadata": {
        "id": "tGK3JphFdekB"
      },
      "outputs": [],
      "source": [
        "from dibs.metrics import expected_shd, threshold_metrics, neg_ave_log_marginal_likelihood\n",
        "\n",
        "# Helper function to calculate scores\n",
        "def calculate_scores(dibs_empirical, ground_truth, eltwise_log_marginal_likelihood_observ, x):\n",
        "\n",
        "    eshd = expected_shd(dist=dibs_empirical, g=ground_truth)\n",
        "    auroc = threshold_metrics(dist=dibs_empirical, g=ground_truth)['roc_auc']\n",
        "    negll = neg_ave_log_marginal_likelihood(\n",
        "        dist=dibs_empirical, eltwise_log_marginal_likelihood=eltwise_log_marginal_likelihood_observ, x=x\n",
        "    )\n",
        "    return eshd, auroc, negll\n",
        "\n",
        "def calculate_edges_per_node(p_edge, n_vars):\n",
        "    return p_edge * (n_vars - 1) / 2\n",
        "\n",
        "def calculate_p_edge(n_edges, n_vars):\n",
        "        p_edge = n_edges / ((n_vars * (n_vars - 1)) / 2)"
      ]
    },
    {
      "cell_type": "code",
      "execution_count": 6,
      "metadata": {
        "id": "fDFs6-GTdI6F"
      },
      "outputs": [],
      "source": [
        "def simulate_data(\n",
        "      key,\n",
        "      n_vars=20,\n",
        "      graph_prior_str='sf',\n",
        "      bge_mean_obs=None,\n",
        "      bge_alpha_mu=None,\n",
        "      bge_alpha_lambd=None,\n",
        "      obs_noise=0.1,\n",
        "      mean_edge=0.0,\n",
        "      sig_edge=1.0,\n",
        "      min_edge=0.5,\n",
        "      n_observations=100,\n",
        "      n_ho_observations=100,\n",
        "      edge_p=0.5\n",
        "    ):\n",
        "    assert graph_prior_str in ['er', 'sf']\n",
        "\n",
        "    print(\"KEY\", key)\n",
        "\n",
        "    # DiBS uses the edges_per_node instead of p\n",
        "    edges_per_node = calculate_edges_per_node(edge_p, n_vars)\n",
        "\n",
        "    # Graph Model\n",
        "    if graph_prior_str == 'sf':\n",
        "        graph_model = ScaleFreeDAGDistribution(\n",
        "            n_vars=n_vars,\n",
        "            n_edges_per_node=edges_per_node\n",
        "        )\n",
        "    elif graph_prior_str == 'er':\n",
        "        graph_model = ErdosReniDAGDistribution(\n",
        "            n_vars=n_vars,\n",
        "            n_edges_per_node=edges_per_node\n",
        "        )\n",
        "    else:\n",
        "        graph_model = None\n",
        "\n",
        "    # Generative Model\n",
        "    generative_model = LinearGaussian(\n",
        "      n_vars=n_vars,\n",
        "      obs_noise=obs_noise,\n",
        "      mean_edge=mean_edge,\n",
        "      sig_edge=sig_edge,\n",
        "      min_edge=min_edge,\n",
        "    )\n",
        "\n",
        "    # Likelihood Model\n",
        "    likelihood_model = BGe(\n",
        "      n_vars=n_vars,\n",
        "      mean_obs=bge_mean_obs,\n",
        "      alpha_mu=bge_alpha_mu,\n",
        "      alpha_lambd=bge_alpha_lambd,\n",
        "    )\n",
        "\n",
        "    # Sample synthetic BN and observations\n",
        "    key, subk = random.split(key)\n",
        "\n",
        "    data = make_synthetic_bayes_net(\n",
        "        key=subk,\n",
        "        n_vars=n_vars,\n",
        "        graph_model=graph_model,\n",
        "        generative_model=generative_model,\n",
        "        n_observations=n_observations,\n",
        "        n_ho_observations=n_ho_observations,\n",
        "    )\n",
        "\n",
        "    visualize_ground_truth(data.g)\n",
        "\n",
        "    return data, graph_model, likelihood_model\n",
        "\n",
        "\n",
        "def run_experiment(key, data, graph_model, likelihood_model, n_particles, svgd_steps, output_dir):\n",
        "    dibs = MarginalDiBS(\n",
        "        x=data.x, interv_mask=None, graph_model=graph_model, likelihood_model=likelihood_model\n",
        "    )\n",
        "    key, subk = random.split(key)\n",
        "    gs = dibs.sample(key=subk, n_particles=n_particles, steps=svgd_steps)\n",
        "\n",
        "    #visualize(gs, svgd_steps, save_path=output_dir, show=False)\n",
        "    dibs_empirical = dibs.get_empirical(gs)\n",
        "\n",
        "    eshd, auroc, negll = calculate_scores(\n",
        "        dibs_empirical, data.g, dibs.eltwise_log_marginal_likelihood_observ, data.x\n",
        "    )\n",
        "\n",
        "    return eshd, auroc, negll"
      ]
    },
    {
      "cell_type": "code",
      "execution_count": 7,
      "metadata": {
        "id": "kTLI2M_4y5v2"
      },
      "outputs": [],
      "source": [
        "MEAN_EDGES_PER_NODE_LOWER = round(calculate_edges_per_node(0.2, N_VARS))\n",
        "MEAN_EDGES_PER_NODE_UPPER = round(calculate_edges_per_node(0.8, N_VARS))\n"
      ]
    },
    {
      "cell_type": "code",
      "execution_count": 8,
      "metadata": {
        "colab": {
          "base_uri": "https://localhost:8080/"
        },
        "id": "0KhWJpZGwDX7",
        "outputId": "3c326b89-a9bd-4460-9f0c-014c968627f7"
      },
      "outputs": [
        {
          "name": "stdout",
          "output_type": "stream",
          "text": [
            "edges_per_node_LOWER 2\n",
            "edges_per_node_UPPER 8\n"
          ]
        }
      ],
      "source": [
        "print(f\"edges_per_node_LOWER {MEAN_EDGES_PER_NODE_LOWER}\")\n",
        "print(f\"edges_per_node_UPPER {MEAN_EDGES_PER_NODE_UPPER}\")"
      ]
    },
    {
      "cell_type": "code",
      "execution_count": null,
      "metadata": {
        "colab": {
          "base_uri": "https://localhost:8080/",
          "height": 1000
        },
        "id": "j-KEI42EW6mm",
        "outputId": "c031dace-e509-422d-827a-3cfdd36a3c5a"
      },
      "outputs": [
        {
          "name": "stdout",
          "output_type": "stream",
          "text": [
            "Running experiments for network 1/10\n",
            "Key:  [3668660785  713825972]\n",
            "KEY [3668660785  713825972]\n"
          ]
        },
        {
          "data": {
            "image/png": "[encoded data removed]",
            "text/plain": [
              "<Figure size 400x400 with 1 Axes>"
            ]
          },
          "metadata": {},
          "output_type": "display_data"
        },
        {
          "name": "stdout",
          "output_type": "stream",
          "text": [
            "KEY [3668660785  713825972]\n"
          ]
        },
        {
          "data": {
            "image/png": "[encoded data removed]",
            "text/plain": [
              "<Figure size 400x400 with 1 Axes>"
            ]
          },
          "metadata": {},
          "output_type": "display_data"
        },
        {
          "name": "stdout",
          "output_type": "stream",
          "text": [
            "Running configuration: ('er20', 'er20')\n",
            "Running configuration: ('er20', 'er80')\n",
            "Running configuration: ('er80', 'er20')\n",
            "Running configuration: ('er80', 'er80')\n",
            "Running experiments for network 2/10\n",
            "Key:  [1185646547 2092858387]\n",
            "KEY [1185646547 2092858387]\n"
          ]
        },
        {
          "data": {
            "image/png": "[encoded data removed]",
            "text/plain": [
              "<Figure size 400x400 with 1 Axes>"
            ]
          },
          "metadata": {},
          "output_type": "display_data"
        },
        {
          "name": "stdout",
          "output_type": "stream",
          "text": [
            "KEY [1185646547 2092858387]\n"
          ]
        },
        {
          "data": {
            "image/png": "[encoded data removed]",
            "text/plain": [
              "<Figure size 400x400 with 1 Axes>"
            ]
          },
          "metadata": {},
          "output_type": "display_data"
        },
        {
          "name": "stdout",
          "output_type": "stream",
          "text": [
            "Running configuration: ('er20', 'er20')\n",
            "Running configuration: ('er20', 'er80')\n",
            "Running configuration: ('er80', 'er20')\n",
            "Running configuration: ('er80', 'er80')\n",
            "Running experiments for network 3/10\n",
            "Key:  [4260797006  129535844]\n",
            "KEY [4260797006  129535844]\n"
          ]
        },
        {
          "data": {
            "image/png": "[encoded data removed]",
            "text/plain": [
              "<Figure size 400x400 with 1 Axes>"
            ]
          },
          "metadata": {},
          "output_type": "display_data"
        },
        {
          "name": "stdout",
          "output_type": "stream",
          "text": [
            "KEY [4260797006  129535844]\n"
          ]
        },
        {
          "data": {
            "image/png": "[encoded data removed]",
            "text/plain": [
              "<Figure size 400x400 with 1 Axes>"
            ]
          },
          "metadata": {},
          "output_type": "display_data"
        },
        {
          "name": "stdout",
          "output_type": "stream",
          "text": [
            "Running configuration: ('er20', 'er20')\n",
            "Running configuration: ('er20', 'er80')\n",
            "Running configuration: ('er80', 'er20')\n",
            "Running configuration: ('er80', 'er80')\n",
            "Running experiments for network 4/10\n",
            "Key:  [ 928977296 1618649917]\n",
            "KEY [ 928977296 1618649917]\n"
          ]
        },
        {
          "data": {
            "image/png": "[encoded data removed]",
            "text/plain": [
              "<Figure size 400x400 with 1 Axes>"
            ]
          },
          "metadata": {},
          "output_type": "display_data"
        },
        {
          "name": "stdout",
          "output_type": "stream",
          "text": [
            "KEY [ 928977296 1618649917]\n"
          ]
        },
        {
          "data": {
            "image/png": "[encoded data removed]",
            "text/plain": [
              "<Figure size 400x400 with 1 Axes>"
            ]
          },
          "metadata": {},
          "output_type": "display_data"
        },
        {
          "name": "stdout",
          "output_type": "stream",
          "text": [
            "Running configuration: ('er20', 'er20')\n",
            "Running configuration: ('er20', 'er80')\n",
            "Running configuration: ('er80', 'er20')\n",
            "Running configuration: ('er80', 'er80')\n",
            "Running experiments for network 5/10\n",
            "Key:  [2708837749 4129373854]\n",
            "KEY [2708837749 4129373854]\n"
          ]
        },
        {
          "data": {
            "image/png": "[encoded data removed]",
            "text/plain": [
              "<Figure size 400x400 with 1 Axes>"
            ]
          },
          "metadata": {},
          "output_type": "display_data"
        },
        {
          "name": "stdout",
          "output_type": "stream",
          "text": [
            "KEY [2708837749 4129373854]\n"
          ]
        },
        {
          "data": {
            "image/png": "[encoded data removed]",
            "text/plain": [
              "<Figure size 400x400 with 1 Axes>"
            ]
          },
          "metadata": {},
          "output_type": "display_data"
        },
        {
          "name": "stdout",
          "output_type": "stream",
          "text": [
            "Running configuration: ('er20', 'er20')\n",
            "Running configuration: ('er20', 'er80')\n",
            "Running configuration: ('er80', 'er20')\n",
            "Running configuration: ('er80', 'er80')\n",
            "Running experiments for network 6/10\n",
            "Key:  [ 652965180 3955248629]\n",
            "KEY [ 652965180 3955248629]\n"
          ]
        },
        {
          "data": {
            "image/png": "[encoded data removed]",
            "text/plain": [
              "<Figure size 400x400 with 1 Axes>"
            ]
          },
          "metadata": {},
          "output_type": "display_data"
        },
        {
          "name": "stdout",
          "output_type": "stream",
          "text": [
            "KEY [ 652965180 3955248629]\n"
          ]
        },
        {
          "data": {
            "image/png": "[encoded data removed]",
            "text/plain": [
              "<Figure size 400x400 with 1 Axes>"
            ]
          },
          "metadata": {},
          "output_type": "display_data"
        },
        {
          "name": "stdout",
          "output_type": "stream",
          "text": [
            "Running configuration: ('er20', 'er20')\n",
            "Running configuration: ('er20', 'er80')\n",
            "Running configuration: ('er80', 'er20')\n",
            "Running configuration: ('er80', 'er80')\n",
            "Running experiments for network 7/10\n",
            "Key:  [1312337421 1285539814]\n",
            "KEY [1312337421 1285539814]\n"
          ]
        },
        {
          "data": {
            "image/png": "[encoded data removed]",
            "text/plain": [
              "<Figure size 400x400 with 1 Axes>"
            ]
          },
          "metadata": {},
          "output_type": "display_data"
        },
        {
          "name": "stdout",
          "output_type": "stream",
          "text": [
            "KEY [1312337421 1285539814]\n"
          ]
        },
        {
          "data": {
            "image/png": "[encoded data removed]",
            "text/plain": [
              "<Figure size 400x400 with 1 Axes>"
            ]
          },
          "metadata": {},
          "output_type": "display_data"
        },
        {
          "name": "stdout",
          "output_type": "stream",
          "text": [
            "Running configuration: ('er20', 'er20')\n",
            "Running configuration: ('er20', 'er80')\n",
            "Running configuration: ('er80', 'er20')\n",
            "Running configuration: ('er80', 'er80')\n",
            "Running experiments for network 8/10\n",
            "Key:  [2974568872 3669116123]\n",
            "KEY [2974568872 3669116123]\n"
          ]
        },
        {
          "data": {
            "image/png": "[encoded data removed]",
            "text/plain": [
              "<Figure size 400x400 with 1 Axes>"
            ]
          },
          "metadata": {},
          "output_type": "display_data"
        },
        {
          "name": "stdout",
          "output_type": "stream",
          "text": [
            "KEY [2974568872 3669116123]\n"
          ]
        },
        {
          "data": {
            "image/png": "[encoded data removed]",
            "text/plain": [
              "<Figure size 400x400 with 1 Axes>"
            ]
          },
          "metadata": {},
          "output_type": "display_data"
        },
        {
          "name": "stdout",
          "output_type": "stream",
          "text": [
            "Running configuration: ('er20', 'er20')\n",
            "Running configuration: ('er20', 'er80')\n",
            "Running configuration: ('er80', 'er20')\n",
            "Running configuration: ('er80', 'er80')\n",
            "Running experiments for network 9/10\n",
            "Key:  [1997906629 3379841639]\n",
            "KEY [1997906629 3379841639]\n"
          ]
        },
        {
          "data": {
            "image/png": "[encoded data removed]",
            "text/plain": [
              "<Figure size 400x400 with 1 Axes>"
            ]
          },
          "metadata": {},
          "output_type": "display_data"
        },
        {
          "name": "stdout",
          "output_type": "stream",
          "text": [
            "KEY [1997906629 3379841639]\n"
          ]
        },
        {
          "data": {
            "image/png": "[encoded data removed]",
            "text/plain": [
              "<Figure size 400x400 with 1 Axes>"
            ]
          },
          "metadata": {},
          "output_type": "display_data"
        },
        {
          "name": "stdout",
          "output_type": "stream",
          "text": [
            "Running configuration: ('er20', 'er20')\n",
            "Running configuration: ('er20', 'er80')\n",
            "Running configuration: ('er80', 'er20')\n",
            "Running configuration: ('er80', 'er80')\n",
            "Running experiments for network 10/10\n",
            "Key:  [4278014892 1203387755]\n",
            "KEY [4278014892 1203387755]\n"
          ]
        },
        {
          "data": {
            "image/png": "[encoded data removed]",
            "text/plain": [
              "<Figure size 400x400 with 1 Axes>"
            ]
          },
          "metadata": {},
          "output_type": "display_data"
        },
        {
          "name": "stdout",
          "output_type": "stream",
          "text": [
            "KEY [4278014892 1203387755]\n"
          ]
        },
        {
          "data": {
            "image/png": "[encoded data removed]",
            "text/plain": [
              "<Figure size 400x400 with 1 Axes>"
            ]
          },
          "metadata": {},
          "output_type": "display_data"
        },
        {
          "name": "stdout",
          "output_type": "stream",
          "text": [
            "Running configuration: ('er20', 'er20')\n",
            "Running configuration: ('er20', 'er80')\n",
            "Running configuration: ('er80', 'er20')\n",
            "Running configuration: ('er80', 'er80')\n",
            "    Network Data Type Graph Model        ESHD     AUROC      NegLL\n",
            "0         1      er20        er20    66.55001  0.803140   2183.086\n",
            "1         1      er20        er80   140.70001  0.656179  1756.1038\n",
            "2         1      er80        er20   136.15002  0.584710  2950.6462\n",
            "3         1      er80        er80   114.45001  0.569829  2109.2446\n",
            "4         2      er20        er20   60.250004  0.800245  1939.3282\n",
            "5         2      er20        er80   145.34999  0.707273  1561.7352\n",
            "6         2      er80        er20   135.60002  0.562648   2645.974\n",
            "7         2      er80        er80  112.899994  0.652504   2080.046\n",
            "8         3      er20        er20    65.70001  0.727773   2081.316\n",
            "9         3      er20        er80   152.90001  0.592185  1634.9591\n",
            "10        3      er80        er20   137.74998  0.528353   2778.614\n",
            "11        3      er80        er80    113.6316  0.574039  2103.4954\n",
            "12        4      er20        er20    66.65002  0.720066  1970.8717\n",
            "13        4      er20        er80   151.55006  0.571360  1734.9097\n",
            "14        4      er80        er20       137.0  0.566244   3030.305\n",
            "15        4      er80        er80   115.49999  0.550757   2445.164\n",
            "16        5      er20        er20       69.05  0.751412  1908.6829\n",
            "17        5      er20        er80   148.74998  0.513203   1598.856\n",
            "18        5      er80        er20   135.60002  0.611877   2550.551\n",
            "19        5      er80        er80   122.70001  0.318818  1985.3959\n",
            "20        6      er20        er20    80.30002  0.717114  2125.4165\n",
            "21        6      er20        er80   150.99997  0.530714  1725.9027\n",
            "22        6      er80        er20   134.69998  0.595720  2815.7869\n",
            "23        6      er80        er80  114.050026  0.516538  2136.7979\n",
            "24        7      er20        er20    61.25001  0.628962  1987.9574\n",
            "25        7      er20        er80   147.74998  0.688819   1551.803\n",
            "26        7      er80        er20   135.85002  0.591037  2552.7095\n",
            "27        7      er80        er80   111.75001  0.546597   2123.901\n",
            "28        8      er20        er20    64.84998  0.763630   1822.715\n",
            "29        8      er20        er80   146.00003  0.734007  1588.5015\n",
            "30        8      er80        er20   137.24998  0.579169  2777.5305\n",
            "31        8      er80        er80   118.70001  0.498240  2208.2043\n",
            "32        9      er20        er20    73.05002  0.724777  1994.1094\n",
            "33        9      er20        er80   153.24994  0.590224  1673.3495\n",
            "34        9      er80        er20   133.90001  0.583380   2687.483\n",
            "35        9      er80        er80   116.69998  0.554363  2320.1956\n",
            "36       10      er20        er20    68.35001  0.806712  1933.2087\n",
            "37       10      er20        er80   149.50003  0.676541  1662.6061\n",
            "38       10      er80        er20       136.6  0.555708   2382.493\n",
            "39       10      er80        er80  117.649994  0.537801   1449.241\n"
          ]
        }
      ],
      "source": [
        "results = []\n",
        "\n",
        "# Split the MAIN_KEY into a separate key for each iteration\n",
        "network_keys = random.split(MAIN_KEY, N_NETWORKS)\n",
        "\n",
        "for i, network_key in enumerate(network_keys):\n",
        "    print(f\"Running experiments for network {i+1}/{N_NETWORKS}\")\n",
        "\n",
        "    print(\"Key: \", network_key)\n",
        "\n",
        "    # Simulate ER data with edge_p=0.2\n",
        "    data_er20, graph_model_er20, BGE_LIKELIHOOD_MODEL = simulate_data(\n",
        "        network_key, N_VARS, \"er\", N_OBSERVATIONS, edge_p=0.2\n",
        "    )\n",
        "    # Simulate ER data with edge_p=0.8\n",
        "    data_er80, graph_model_er80, _ = simulate_data(\n",
        "        network_key, N_VARS, \"er\", N_OBSERVATIONS, edge_p=0.8\n",
        "    )\n",
        "\n",
        "    ## Simulate SF data edge_p=0.2\n",
        "    #data_sf20, graph_model_sf20, _ = simulate_data(\n",
        "    #    key, N_VARS, \"sf\", N_OBSERVATIONS, edges_per_node=MEAN_EDGES_PER_NODE_LOWER\n",
        "    #)\n",
        "\n",
        "    ## Simulate SF data edge_p=0.8\n",
        "    #data_sf80, graph_model_sf80, _ = simulate_data(\n",
        "    #    key, N_VARS, \"sf\", N_OBSERVATIONS, edges_per_node=MEAN_EDGES_PER_NODE_UPPER\n",
        "    #)\n",
        "\n",
        "    # Experiment configurations\n",
        "    #configs = [\n",
        "    #    ((\"er20\", \"er20\"), data_er20, graph_model_er20),\n",
        "    #    ((\"er20\", \"er80\"), data_er20, graph_model_er80),\n",
        "    #    ((\"er20\", \"sf20\"), data_er20, graph_model_sf20),\n",
        "    #    ((\"er20\", \"sf80\"), data_er20, graph_model_sf80),\n",
        "    #    ((\"er80\", \"er20\"), data_er80, graph_model_er20),\n",
        "    #    ((\"er80\", \"er80\"), data_er80, graph_model_er80),\n",
        "    #    ((\"er80\", \"sf20\"), data_er80, graph_model_sf20),\n",
        "    #    ((\"er80\", \"sf80\"), data_er80, graph_model_sf80),\n",
        "    #    ((\"sf20\", \"er20\"), data_sf20, graph_model_er20),\n",
        "    #    ((\"sf20\", \"er80\"), data_sf20, graph_model_er80),\n",
        "    #    ((\"sf20\", \"sf20\"), data_sf20, graph_model_sf20),\n",
        "    #    ((\"sf20\", \"sf80\"), data_sf20, graph_model_sf80),\n",
        "    #    ((\"sf80\", \"er20\"), data_sf80, graph_model_er20),\n",
        "    #    ((\"sf80\", \"er80\"), data_sf80, graph_model_er80),\n",
        "    #    ((\"sf80\", \"sf20\"), data_sf80, graph_model_sf20),\n",
        "    #    ((\"sf80\", \"sf80\"), data_sf80, graph_model_sf80),\n",
        "    #]\n",
        "\n",
        "    configs = [\n",
        "        ((\"er20\", \"er20\"), data_er20, graph_model_er20),\n",
        "        ((\"er20\", \"er80\"), data_er20, graph_model_er80),\n",
        "        ((\"er80\", \"er20\"), data_er80, graph_model_er20),\n",
        "        ((\"er80\", \"er80\"), data_er80, graph_model_er80),\n",
        "    ]\n",
        "\n",
        "    for labels, data, graph_model in configs:\n",
        "        print(\"Running configuration:\", labels)\n",
        "\n",
        "        eshd, auroc, negll = run_experiment(\n",
        "            network_key, data, graph_model, BGE_LIKELIHOOD_MODEL, N_PARTICLES, SVGD_STEPS, OUTPUT_DIR\n",
        "        )\n",
        "\n",
        "        results.append({\n",
        "            \"Network\": i + 1,\n",
        "            \"Data Type\": labels[0],\n",
        "            \"Graph Model\": labels[1],\n",
        "            \"ESHD\": eshd,\n",
        "            \"AUROC\": auroc,\n",
        "            \"NegLL\": negll,\n",
        "        })\n",
        "\n",
        "# Create results dataframe\n",
        "results_df = pd.DataFrame(results)\n",
        "print(results_df)\n",
        "\n",
        "# Save results to CSV\n",
        "results_df.to_csv(f\"e1_2_results_n{N_OBSERVATIONS}.csv\", index=False)"
      ]
    },
    {
      "cell_type": "markdown",
      "metadata": {
        "id": "SrwnaXmj1ck6"
      },
      "source": [
        "## E2: Variability of included edges for different sample_sizes"
      ]
    },
    {
      "cell_type": "code",
      "execution_count": 9,
      "metadata": {
        "id": "yBZLxuaOKMYA"
      },
      "outputs": [],
      "source": [
        "import pandas as pd\n",
        "import seaborn as sns\n",
        "import matplotlib.pyplot as plt\n",
        "from dibs.inference import JointDiBS, MarginalDiBS\n",
        "from dibs.target import make_linear_gaussian_equivalent_model\n",
        "from dibs.utils import visualize_ground_truth, visualize\n",
        "import jax.random as random\n",
        "from dibs.models.graph import ErdosReniDAGDistribution, ScaleFreeDAGDistribution\n",
        "from dibs.models import LinearGaussian, BGe, DenseNonlinearGaussian\n",
        "from dibs.target import make_synthetic_bayes_net"
      ]
    },
    {
      "cell_type": "code",
      "execution_count": 10,
      "metadata": {
        "id": "i3ddgDsVKN3O"
      },
      "outputs": [],
      "source": [
        "MAIN_KEY = random.PRNGKey(0)\n",
        "N_VARS = 20  # Adjust as needed\n",
        "N_PARTICLES = N_VARS  # Adjust as needed\n",
        "SVGD_STEPS = 3000  # Adjust as needed\n",
        "OUTPUT_DIR = \"output\"  # Adjust as needed\n",
        "DIBS_ITERATIONS = 10\n",
        "N_OBSERVATIONS = [10, 100, 1000]"
      ]
    },
    {
      "cell_type": "code",
      "execution_count": 11,
      "metadata": {
        "id": "zosgUBeSKRqd"
      },
      "outputs": [],
      "source": [
        "def simulate_data(\n",
        "      key,\n",
        "      n_vars=20,\n",
        "      graph_prior_str='sf',\n",
        "      bge_mean_obs=None,\n",
        "      bge_alpha_mu=None,\n",
        "      bge_alpha_lambd=None,\n",
        "      obs_noise=0.1,\n",
        "      mean_edge=0.0,\n",
        "      sig_edge=1.0,\n",
        "      min_edge=0.5,\n",
        "      n_observations=100,\n",
        "      n_ho_observations=100,\n",
        "      edges_per_node=2\n",
        "    ):\n",
        "    assert graph_prior_str in ['er', 'sf']\n",
        "\n",
        "    print(\"KEY\", key)\n",
        "\n",
        "    # DiBS uses the edges_per_node instead of p\n",
        "    # edges_per_node = calculate_edges_per_node(edge_p, n_vars)\n",
        "\n",
        "    # Graph Model\n",
        "    if graph_prior_str == 'sf':\n",
        "        graph_model = ScaleFreeDAGDistribution(\n",
        "            n_vars=n_vars,\n",
        "            n_edges_per_node=edges_per_node\n",
        "        )\n",
        "    elif graph_prior_str == 'er':\n",
        "        graph_model = ErdosReniDAGDistribution(\n",
        "            n_vars=n_vars,\n",
        "            n_edges_per_node=edges_per_node\n",
        "        )\n",
        "    else:\n",
        "        graph_model = None\n",
        "\n",
        "    # Generative Model\n",
        "    generative_model = LinearGaussian(\n",
        "      n_vars=n_vars,\n",
        "      obs_noise=obs_noise,\n",
        "      mean_edge=mean_edge,\n",
        "      sig_edge=sig_edge,\n",
        "      min_edge=min_edge,\n",
        "    )\n",
        "\n",
        "    # Likelihood Model\n",
        "    likelihood_model = BGe(\n",
        "      n_vars=n_vars,\n",
        "      mean_obs=bge_mean_obs,\n",
        "      alpha_mu=bge_alpha_mu,\n",
        "      alpha_lambd=bge_alpha_lambd,\n",
        "    )\n",
        "\n",
        "    # Sample synthetic BN and observations\n",
        "    key, subk = random.split(key)\n",
        "\n",
        "    data = make_synthetic_bayes_net(\n",
        "        key=subk,\n",
        "        n_vars=n_vars,\n",
        "        graph_model=graph_model,\n",
        "        generative_model=generative_model,\n",
        "        n_observations=n_observations,\n",
        "        n_ho_observations=n_ho_observations,\n",
        "    )\n",
        "\n",
        "    visualize_ground_truth(data.g)\n",
        "\n",
        "    return data, graph_model, likelihood_model\n",
        "\n",
        "\n",
        "def run_experiment(key, data, graph_model, likelihood_model, n_particles, svgd_steps, output_dir):\n",
        "    dibs = MarginalDiBS(\n",
        "        x=data.x, interv_mask=None, graph_model=graph_model, likelihood_model=likelihood_model\n",
        "    )\n",
        "    key, subk = random.split(key)\n",
        "    print(\"DIBS run key\", key)\n",
        "    gs = dibs.sample(key=subk, n_particles=n_particles, steps=svgd_steps)\n",
        "\n",
        "    dibs_empirical = dibs.get_empirical(gs)\n",
        "\n",
        "    eshd, auroc, negll = calculate_scores(\n",
        "        dibs_empirical, data.g, dibs.eltwise_log_marginal_likelihood_observ, data.x\n",
        "    )\n",
        "\n",
        "    return gs, eshd, auroc, negll\n",
        "\n",
        "# Helper function to calculate scores\n",
        "from dibs.metrics import expected_shd, threshold_metrics, neg_ave_log_marginal_likelihood\n",
        "def calculate_scores(dibs_empirical, ground_truth, eltwise_log_marginal_likelihood_observ, x):\n",
        "\n",
        "    eshd = expected_shd(dist=dibs_empirical, g=ground_truth)\n",
        "    auroc = threshold_metrics(dist=dibs_empirical, g=ground_truth)['roc_auc']\n",
        "    negll = neg_ave_log_marginal_likelihood(\n",
        "        dist=dibs_empirical, eltwise_log_marginal_likelihood=eltwise_log_marginal_likelihood_observ, x=x\n",
        "    )\n",
        "    return eshd, auroc, negll"
      ]
    },
    {
      "cell_type": "code",
      "execution_count": 13,
      "metadata": {
        "colab": {
          "base_uri": "https://localhost:8080/",
          "height": 1000
        },
        "id": "GmWhDfoSKTMH",
        "outputId": "2f806242-6999-466d-f230-8bbf305c995f"
      },
      "outputs": [
        {
          "name": "stdout",
          "output_type": "stream",
          "text": [
            "KEY [0 0]\n"
          ]
        },
        {
          "data": {
            "image/png": "[encoded data removed]",
            "text/plain": [
              "<Figure size 400x400 with 1 Axes>"
            ]
          },
          "metadata": {},
          "output_type": "display_data"
        },
        {
          "name": "stdout",
          "output_type": "stream",
          "text": [
            "KEY [0 0]\n"
          ]
        },
        {
          "data": {
            "image/png": "[encoded data removed]",
            "text/plain": [
              "<Figure size 400x400 with 1 Axes>"
            ]
          },
          "metadata": {},
          "output_type": "display_data"
        },
        {
          "name": "stdout",
          "output_type": "stream",
          "text": [
            "KEY [0 0]\n"
          ]
        },
        {
          "data": {
            "image/png": "[encoded data removed]",
            "text/plain": [
              "<Figure size 400x400 with 1 Axes>"
            ]
          },
          "metadata": {},
          "output_type": "display_data"
        }
      ],
      "source": [
        "# Simulate ER data with n_observation=10\n",
        "data_er_n10, GRAPH_MODEL_ER, BGE_LIKELIHOOD_MODEL = simulate_data(\n",
        "    key=MAIN_KEY, n_vars=N_VARS, graph_prior_str=\"er\", n_observations=10\n",
        ")\n",
        "\n",
        "# Simulate ER data with n_observation=100\n",
        "data_er_n100, _, _ = simulate_data(\n",
        "    key=MAIN_KEY, n_vars=N_VARS, graph_prior_str=\"er\", n_observations=100\n",
        ")\n",
        "\n",
        "# Simulate ER data with n_observation=1000\n",
        "data_er_n1000, _, _ = simulate_data(\n",
        "    key=MAIN_KEY, n_vars=N_VARS, graph_prior_str=\"er\", n_observations=1000\n",
        ")"
      ]
    },
    {
      "cell_type": "code",
      "execution_count": 14,
      "metadata": {
        "id": "_uN1n_FOpDMd"
      },
      "outputs": [],
      "source": [
        "import pickle\n",
        "\n",
        "# Assuming 'data_er_n10' is the variable you want to save\n",
        "with open('data_er_n10.pickle', 'wb') as f:\n",
        "  pickle.dump(data_er_n10, f)\n",
        "\n",
        "  # Assuming 'data_er_n10' is the variable you want to save\n",
        "with open('data_er_n100.pickle', 'wb') as f:\n",
        "  pickle.dump(data_er_n100, f)\n",
        "\n",
        "  # Assuming 'data_er_n1000' is the variable you want to save\n",
        "with open('data_er_n1000.pickle', 'wb') as f:\n",
        "  pickle.dump(data_er_n1000, f)"
      ]
    },
    {
      "cell_type": "code",
      "execution_count": null,
      "metadata": {
        "colab": {
          "background_save": true,
          "base_uri": "https://localhost:8080/"
        },
        "id": "dsOq0Op0KW-R",
        "outputId": "923f4aa3-5d98-45c0-9035-e77f720e485c"
      },
      "outputs": [
        {
          "name": "stdout",
          "output_type": "stream",
          "text": [
            "Running experiments for dibs iteration 1/10\n",
            "Running configuration with 10 observations\n",
            "DIBS run key [3226283459 2011780552]\n",
            "45.2 0.6242566510172144 202.07242\n",
            "Running configuration with 100 observations\n",
            "DIBS run key [3226283459 2011780552]\n",
            "45.9 0.9059467918622848 925.4793\n",
            "Running configuration with 1000 observations\n",
            "DIBS run key [3226283459 2011780552]\n",
            "49.000008 0.9613145539906103 6289.707\n",
            "Running experiments for dibs iteration 2/10\n",
            "Running configuration with 10 observations\n",
            "DIBS run key [3141584185 3926473090]\n",
            "45.449993 0.6170892018779343 200.85547\n",
            "Running configuration with 100 observations\n",
            "DIBS run key [3141584185 3926473090]\n",
            "46.100002 0.9124569640062598 923.95105\n",
            "Running configuration with 1000 observations\n",
            "DIBS run key [3141584185 3926473090]\n",
            "51.499992 0.95320813771518 6502.4663\n",
            "Running experiments for dibs iteration 3/10\n",
            "Running configuration with 10 observations\n",
            "DIBS run key [1644682379  552749061]\n",
            "44.400005 0.652112676056338 200.32977\n",
            "Running configuration with 100 observations\n",
            "DIBS run key [1644682379  552749061]\n",
            "41.999992 0.9334585289514867 922.5036\n",
            "Running configuration with 1000 observations\n",
            "DIBS run key [1644682379  552749061]\n",
            "51.799995 0.9413771517996871 6067.1875\n",
            "Running experiments for dibs iteration 4/10\n",
            "Running configuration with 10 observations\n",
            "DIBS run key [ 165898832 3717638125]\n",
            "44.949993 0.6492957746478873 200.25566\n",
            "Running configuration with 100 observations\n",
            "DIBS run key [ 165898832 3717638125]\n",
            "40.8 0.932206572769953 921.88086\n",
            "Running configuration with 1000 observations\n",
            "DIBS run key [ 165898832 3717638125]\n",
            "51.4 0.9572143974960876 6329.88\n",
            "Running experiments for dibs iteration 5/10\n",
            "Running configuration with 10 observations\n",
            "DIBS run key [1515795899  675458165]\n",
            "44.500004 0.630547730829421 202.72736\n",
            "Running configuration with 100 observations\n",
            "DIBS run key [1515795899  675458165]\n",
            "42.349995 0.9322065727699531 916.6454\n",
            "Running configuration with 1000 observations\n",
            "DIBS run key [1515795899  675458165]\n",
            "52.45 0.9480125195618153 6266.8887\n",
            "Running experiments for dibs iteration 6/10\n",
            "Running configuration with 10 observations\n",
            "DIBS run key [ 181490208 3707969421]\n",
            "44.400005 0.6731768388106416 201.31628\n",
            "Running configuration with 100 observations\n",
            "DIBS run key [ 181490208 3707969421]\n",
            "43.400005 0.9305164319248826 950.8289\n",
            "Running configuration with 1000 observations\n",
            "DIBS run key [ 181490208 3707969421]\n",
            "47.05001 0.9648513302034428 6590.3247\n",
            "Running experiments for dibs iteration 7/10\n",
            "Running configuration with 10 observations\n",
            "DIBS run key [3751434728  945846610]\n",
            "44.850006 0.6456651017214398 201.07971\n",
            "Running configuration with 100 observations\n",
            "DIBS run key [3751434728  945846610]\n",
            "43.949993 0.9235054773082942 919.1095\n",
            "Running configuration with 1000 observations\n",
            "DIBS run key [3751434728  945846610]\n",
            "48.2 0.9600312989045384 6455.7354\n",
            "Running experiments for dibs iteration 8/10\n",
            "Running configuration with 10 observations\n",
            "DIBS run key [1278430797 3855817975]\n",
            "45.4 0.6000625978090767 201.68584\n",
            "Running configuration with 100 observations\n",
            "DIBS run key [1278430797 3855817975]\n",
            "44.3 0.9244444444444445 914.4163\n",
            "Running configuration with 1000 observations\n",
            "DIBS run key [1278430797 3855817975]\n",
            "44.65 0.9610641627543035 6243.909\n",
            "Running experiments for dibs iteration 9/10\n",
            "Running configuration with 10 observations\n",
            "DIBS run key [1042394973  861408692]\n",
            "46.100002 0.6672613458528952 203.88992\n",
            "Running configuration with 100 observations\n",
            "DIBS run key [1042394973  861408692]\n",
            "50.249985 0.8877308294209703 927.4222\n",
            "Running configuration with 1000 observations\n",
            "DIBS run key [1042394973  861408692]\n",
            "53.549988 0.9444131455399062 7276.4185\n",
            "Running experiments for dibs iteration 10/10\n",
            "Running configuration with 10 observations\n",
            "DIBS run key [2380988213 3651634636]\n",
            "45.449993 0.6269170579029734 202.85695\n",
            "Running configuration with 100 observations\n",
            "DIBS run key [2380988213 3651634636]\n",
            "42.400005 0.9365571205007824 945.0621\n",
            "Running configuration with 1000 observations\n",
            "DIBS run key [2380988213 3651634636]\n",
            "46.100002 0.9620031298904538 6262.6533\n",
            "    dibs_iteration n_observations  \\\n",
            "0                1             10   \n",
            "1                1            100   \n",
            "2                1           1000   \n",
            "3                2             10   \n",
            "4                2            100   \n",
            "5                2           1000   \n",
            "6                3             10   \n",
            "7                3            100   \n",
            "8                3           1000   \n",
            "9                4             10   \n",
            "10               4            100   \n",
            "11               4           1000   \n",
            "12               5             10   \n",
            "13               5            100   \n",
            "14               5           1000   \n",
            "15               6             10   \n",
            "16               6            100   \n",
            "17               6           1000   \n",
            "18               7             10   \n",
            "19               7            100   \n",
            "20               7           1000   \n",
            "21               8             10   \n",
            "22               8            100   \n",
            "23               8           1000   \n",
            "24               9             10   \n",
            "25               9            100   \n",
            "26               9           1000   \n",
            "27              10             10   \n",
            "28              10            100   \n",
            "29              10           1000   \n",
            "\n",
            "                                            edge_freq       ESHD     AUROC  \\\n",
            "0   [[0.0, 0.0, 0.0, 0.0, 0.0, 0.45000001788139343...       45.2  0.624257   \n",
            "1   [[0.0, 0.0, 0.10000000149011612, 0.0, 0.100000...       45.9  0.905947   \n",
            "2   [[0.0, 0.0, 0.05000000074505806, 0.0, 0.0, 0.3...  49.000008  0.961315   \n",
            "3   [[0.0, 0.0, 0.0, 0.0, 0.0, 0.4000000059604645,...  45.449993  0.617089   \n",
            "4   [[0.0, 0.0, 0.0, 0.0, 0.05000000074505806, 0.4...  46.100002  0.912457   \n",
            "5   [[0.0, 0.0, 0.0, 0.05000000074505806, 0.050000...  51.499992  0.953208   \n",
            "6   [[0.0, 0.0, 0.0, 0.0, 0.0, 0.3499999940395355,...  44.400005  0.652113   \n",
            "7   [[0.0, 0.0, 0.05000000074505806, 0.0, 0.0, 0.5...  41.999992  0.933459   \n",
            "8   [[0.0, 0.0, 0.05000000074505806, 0.0, 0.100000...  51.799995  0.941377   \n",
            "9   [[0.0, 0.0, 0.0, 0.0, 0.0, 0.5, 0.450000017881...  44.949993  0.649296   \n",
            "10  [[0.0, 0.0, 0.05000000074505806, 0.0, 0.0, 0.3...       40.8  0.932207   \n",
            "11  [[0.0, 0.0, 0.05000000074505806, 0.0, 0.050000...       51.4  0.957214   \n",
            "12  [[0.0, 0.0, 0.0, 0.0, 0.0, 0.5, 0.25, 0.0, 0.0...  44.500004  0.630548   \n",
            "13  [[0.0, 0.0, 0.05000000074505806, 0.0, 0.100000...  42.349995  0.932207   \n",
            "14  [[0.0, 0.0, 0.10000000149011612, 0.0, 0.050000...      52.45  0.948013   \n",
            "15  [[0.0, 0.0, 0.0, 0.0, 0.0, 0.4000000059604645,...  44.400005  0.673177   \n",
            "16  [[0.0, 0.0, 0.05000000074505806, 0.0, 0.0, 0.4...  43.400005  0.930516   \n",
            "17  [[0.0, 0.0, 0.0, 0.0, 0.15000000596046448, 0.3...   47.05001  0.964851   \n",
            "18  [[0.0, 0.0, 0.0, 0.0, 0.0, 0.4000000059604645,...  44.850006  0.645665   \n",
            "19  [[0.0, 0.0, 0.05000000074505806, 0.0, 0.0, 0.4...  43.949993  0.923505   \n",
            "20  [[0.0, 0.0, 0.0, 0.0, 0.20000000298023224, 0.3...       48.2  0.960031   \n",
            "21  [[0.0, 0.0, 0.0, 0.0, 0.0, 0.6500000357627869,...       45.4  0.600063   \n",
            "22  [[0.0, 0.0, 0.05000000074505806, 0.0, 0.0, 0.3...       44.3  0.924444   \n",
            "23  [[0.0, 0.0, 0.05000000074505806, 0.0, 0.050000...      44.65  0.961064   \n",
            "24  [[0.0, 0.0, 0.0, 0.0, 0.0, 0.550000011920929, ...  46.100002  0.667261   \n",
            "25  [[0.0, 0.0, 0.25, 0.0, 0.0, 0.4000000059604645...  50.249985  0.887731   \n",
            "26  [[0.0, 0.0, 0.05000000074505806, 0.0, 0.050000...  53.549988  0.944413   \n",
            "27  [[0.0, 0.0, 0.0, 0.0, 0.0, 0.5, 0.200000002980...  45.449993  0.626917   \n",
            "28  [[0.0, 0.0, 0.0, 0.0, 0.05000000074505806, 0.3...  42.400005  0.936557   \n",
            "29  [[0.0, 0.0, 0.0, 0.0, 0.15000000596046448, 0.3...  46.100002  0.962003   \n",
            "\n",
            "        NegLL  \n",
            "0   202.07242  \n",
            "1    925.4793  \n",
            "2    6289.707  \n",
            "3   200.85547  \n",
            "4   923.95105  \n",
            "5   6502.4663  \n",
            "6   200.32977  \n",
            "7    922.5036  \n",
            "8   6067.1875  \n",
            "9   200.25566  \n",
            "10  921.88086  \n",
            "11    6329.88  \n",
            "12  202.72736  \n",
            "13   916.6454  \n",
            "14  6266.8887  \n",
            "15  201.31628  \n",
            "16   950.8289  \n",
            "17  6590.3247  \n",
            "18  201.07971  \n",
            "19   919.1095  \n",
            "20  6455.7354  \n",
            "21  201.68584  \n",
            "22   914.4163  \n",
            "23   6243.909  \n",
            "24  203.88992  \n",
            "25   927.4222  \n",
            "26  7276.4185  \n",
            "27  202.85695  \n",
            "28   945.0621  \n",
            "29  6262.6533  \n"
          ]
        }
      ],
      "source": [
        "import pandas as pd\n",
        "import numpy as np\n",
        "import json\n",
        "\n",
        "results = []\n",
        "\n",
        "# Split the MAIN_KEY into a separate key for each iteration\n",
        "dibs_keys = random.split(MAIN_KEY, DIBS_ITERATIONS)\n",
        "\n",
        "for i, dibs_key in enumerate(dibs_keys):\n",
        "    print(f\"Running experiments for dibs iteration {i+1}/{DIBS_ITERATIONS}\")\n",
        "\n",
        "    # Experiment configurations\n",
        "    configs = [\n",
        "        (\"10\", data_er_n10),\n",
        "        (\"100\", data_er_n100),\n",
        "        (\"1000\", data_er_n1000),\n",
        "    ]\n",
        "\n",
        "    for n_observations, data in configs:\n",
        "        print(f\"Running configuration with {n_observations} observations\")\n",
        "\n",
        "        gs, eshd, auroc, negll = run_experiment(\n",
        "            dibs_key, data, GRAPH_MODEL_ER, BGE_LIKELIHOOD_MODEL, N_PARTICLES, SVGD_STEPS, OUTPUT_DIR\n",
        "        )\n",
        "\n",
        "        # Compute edge frequency\n",
        "        edge_count_matrix = sum(gs)  # Summing all adjacency matrices in `gs`\n",
        "\n",
        "        edge_freq_matrix = edge_count_matrix / N_PARTICLES  # Standardizing by N_PARTICLES\n",
        "\n",
        "        print(eshd, auroc, negll)\n",
        "\n",
        "        # Store results with the edge_freq serialized as a JSON string\n",
        "        results.append({\n",
        "            \"dibs_iteration\": i + 1,\n",
        "            \"n_observations\": n_observations,\n",
        "            \"edge_freq\": json.dumps(edge_freq_matrix.tolist()),  # Convert to list and serialize as JSON\n",
        "            \"ESHD\": eshd,\n",
        "            \"AUROC\": auroc,\n",
        "            \"NegLL\": negll,\n",
        "        })\n",
        "\n",
        "# Create results dataframe\n",
        "results_df = pd.DataFrame(results)\n",
        "print(results_df)\n",
        "\n",
        "# Save results to CSV\n",
        "results_df.to_csv(\"e2_results.csv\", index=False)"
      ]
    }
  ],
  "metadata": {
    "accelerator": "GPU",
    "colab": {
      "gpuType": "T4",
      "provenance": []
    },
    "kernelspec": {
      "display_name": "Python 3",
      "name": "python3"
    },
    "language_info": {
      "name": "python"
    }
  },
  "nbformat": 4,
  "nbformat_minor": 0
}
